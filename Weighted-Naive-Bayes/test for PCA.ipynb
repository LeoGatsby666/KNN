{
 "cells": [
  {
   "cell_type": "code",
   "execution_count": 1,
   "id": "4853d788-481f-4f4f-9915-f22282cd5b16",
   "metadata": {},
   "outputs": [],
   "source": [
    "import numpy as np\n",
    "from sklearn.decomposition import PCA \n",
    "import matplotlib.pyplot as plt\n",
    "from sklearn.naive_bayes import GaussianNB\n",
    "from sklearn.naive_bayes import MultinomialNB\n",
    "from sklearn.naive_bayes import BernoulliNB\n",
    "from sklearn.naive_bayes import ComplementNB\n",
    "import os\n",
    "from sklearn.model_selection import train_test_split\n",
    "from sklearn.model_selection import cross_val_score\n",
    "from sklearn.ensemble import AdaBoostClassifier\n",
    "from sklearn.preprocessing import MinMaxScaler"
   ]
  },
  {
   "cell_type": "code",
   "execution_count": 2,
   "id": "95b595e6-6e97-49c4-8507-79a498a945ec",
   "metadata": {},
   "outputs": [],
   "source": [
    "#缩小图片规格，以减少计算量及因图片错误引起的无关因素规格为113x90\n",
    "def depart(initial_matrix):\n",
    "    kl = initial_matrix[15:]\n",
    "    tk = []\n",
    "    for i in range(113):    \n",
    "        t = kl[i][20:110]\n",
    "        tk.append(t)\n",
    "    return tk\n",
    "#离散处理数据像素，使其可能取值数量为17\n",
    "def lisan(ol):\n",
    "    for i in range(113):\n",
    "        for j in range(90):\n",
    "            ol[i][j] = (ol[i][j]//15)*15+7\n",
    "    return ol\n",
    "def lisan1(ol):\n",
    "    for i in range(len(ol)):\n",
    "        ol[i] = (ol[i]//15)*15+7\n",
    "    return ol\n",
    "def cou_male(a):\n",
    "    '''\n",
    "    统计男性数量\n",
    "    '''\n",
    "    t = 0\n",
    "    for i in a:\n",
    "        if i==1:\n",
    "            t += 1\n",
    "    return t\n",
    "#寻找男性坐标\n",
    "def findex(a):\n",
    "    num = []\n",
    "    for i in range(len(a)):\n",
    "        if a[i] == 1:\n",
    "            num.append(i)\n",
    "    return num\n",
    "#计算权重，注意，此时特征向量已经拉长处理\n",
    "def weigh(data_x,data_y):\n",
    "    kp = findex(data_y)#记录男性坐标\n",
    "    k = [i for i in range(len(data_y))]\n",
    "    #得出女性坐标\n",
    "    for i in kp:\n",
    "        k.remove(i)\n",
    "    al = [0]*len(data_x[0])#建立特征向量的空数组\n",
    "    #循环求解\n",
    "    for n in kp:\n",
    "        for t in k:\n",
    "            for i in range(len(data_x[0])):\n",
    "                #不同则加一\n",
    "                if data_x[n][i]!=data_x[t][i]:\n",
    "                    al[i] += 1\n",
    "    he = sum(al)\n",
    "    tp = []\n",
    "    for i in range(len(al)):\n",
    "        tp.append(al[i]/he)\n",
    "    tj = tp.copy()\n",
    "    tj.sort()\n",
    "    a = []\n",
    "    #归一化\n",
    "    for i in tp:\n",
    "        tpk = (i-tj[0])/(tj[len(tp)-1]-tj[0])\n",
    "        a.append(tpk)\n",
    "    #向上平移1\n",
    "    for i in range(len(a)):\n",
    "        a[i] += 1 \n",
    "    #乘以一个倍数\n",
    "    for i in range(len(a)):\n",
    "        if a[i] != 1:\n",
    "            a[i] = a[i]*3\n",
    "    a = np.array(a)\n",
    "    return a  "
   ]
  },
  {
   "cell_type": "code",
   "execution_count": 3,
   "id": "dd8796aa-1e82-4cd0-aa01-880b42b8b431",
   "metadata": {},
   "outputs": [],
   "source": [
    "# 源数据处理\n",
    "all_file = os.listdir('./face/rawdata')\n",
    "# 读取所有data_x数据,  有问题的数据：第1186个，2412号；第1190个，2416号 ；2021号\n",
    "data_x = np.zeros((len(all_file),128,128))\n",
    "data_y = np.zeros(len(all_file))\n",
    "data1_x = np.zeros((len(all_file),113,90))\n",
    "\n",
    "# 将两个数据标签整理再一起\n",
    "f = open('./face/faceDR','r')\n",
    "r1 = f.readlines()\n",
    "f.close()\n",
    "\n",
    "f = open('./face/faceDS','r')\n",
    "r2 = f.readlines()\n",
    "f.close()\n",
    "for i in r2:\n",
    "    r1.append(i)\n",
    "\n",
    "# 整理出data_x,和data_y\n",
    "all_file = os.listdir('./face/rawdata')\n",
    "for i in range(len(all_file)):\n",
    "    with open('./face/rawdata/'+all_file[i],'rb') as f:\n",
    "        x = np.fromfile(f,dtype=np.ubyte)\n",
    "        t = x.reshape(128,-1)\n",
    "        data_x[i] = t\n",
    "        for j in r1:\n",
    "            if all_file[i] in j:\n",
    "                if 'female' in j:\n",
    "                    data_y[i] = 0\n",
    "                elif 'male' in j:\n",
    "                    data_y[i] = 1\n",
    "                else:\n",
    "                    data_y[i] = None\n",
    "                break\n",
    "#缩小图片，及离散处理\n",
    "for i in range(len(all_file)):\n",
    "    data1_x[i] = depart(data_x[i])\n",
    "#    data1_x[i] = lisan(data1_x[i])\n",
    "#进一步处理\n",
    "face_data = data1_x.reshape(data1_x.shape[0],-1)#拉长数组\n",
    "face_target = data_y\n",
    "#PCA降维\n",
    "#pca = PCA(n_components = 300).fit(face_data)\n",
    "#face_data = pca.transform(face_data)\n"
   ]
  },
  {
   "cell_type": "code",
   "execution_count": 4,
   "id": "b0a08991-7a9b-4dc4-957f-2154107da9e0",
   "metadata": {},
   "outputs": [],
   "source": [
    "#聚类排干扰\n",
    "from sklearn.cluster import KMeans\n",
    "n_clusters = 7\n",
    "cluster = KMeans(n_clusters=n_clusters, random_state=0).fit(face_data)\n",
    "y_pred = cluster.labels_"
   ]
  },
  {
   "cell_type": "code",
   "execution_count": 5,
   "id": "91cbea3b-2026-465a-8c34-e82f96772c5b",
   "metadata": {},
   "outputs": [
    {
     "name": "stdout",
     "output_type": "stream",
     "text": [
      "53 [24, 137, 326, 329, 335, 336, 338, 339, 384, 396, 404, 406, 407, 408, 409, 410, 412, 424, 429, 431, 438, 484, 492, 499, 510, 551, 552, 553, 554, 562, 564, 581, 612, 615, 616, 621, 637, 657, 816, 853, 854, 855, 866, 867, 883, 884, 885, 896, 897, 906, 907, 915, 941, 942, 945, 946, 947, 948, 951, 952, 985, 986, 1018, 1086, 1087, 1109, 1110, 1120, 1126, 1127, 1153, 1199, 1204, 1222, 1230, 1241, 1242, 1243, 1260, 1261, 1272, 1273, 1342, 1350, 1351, 1353, 1354, 1355, 1356, 1357, 1358, 1359, 1360, 1361, 1435, 1466, 1467, 1500, 1529, 1551, 1566, 1608, 1609, 1618, 1619, 1620, 1656, 1658, 1665, 1683, 1684, 1698, 1708, 1723, 1737, 1740, 1776, 1814, 1815, 1818, 1819, 1821, 1822, 1827, 1846, 1847, 1848, 1868, 1869, 1910, 2020, 2043, 2045, 2047, 2133, 2139, 2141, 2145, 2146, 2191, 2192, 2193, 2194, 2195, 2196, 2197, 2198, 2199, 2200, 2202, 2203, 2204, 2205, 2206, 2207, 2208, 2209, 2210, 2211, 2215, 2218, 2220, 2221, 2223, 2224, 2226, 2228, 2229, 2230, 2231, 2232, 2233, 2234, 2235, 2236, 2237, 2238, 2239, 2240, 2241, 2242, 2243, 2244, 2245, 2246, 2247, 2248, 2249, 2250, 2251, 2252, 2253, 2254, 2255, 2256, 2257, 2258, 2306, 2467, 2500, 2549, 2605, 2611, 2612, 2613, 2614, 2615, 2616, 2617, 2618, 2619, 2620, 2621, 2622, 2623, 2624, 2625, 2626, 2627, 2628, 2629, 2630, 2631, 2632, 2633, 2634, 2635, 2636, 2637, 2638, 2639, 2640, 2641, 2642, 2643, 2644, 2645, 2646, 2647, 2648, 2649, 2650, 2651, 2652, 2653, 2654, 2655, 2656, 2657, 2658, 2659, 2660, 2661, 2662, 2663, 2664, 2665, 2666, 2667, 2668, 2669, 2670, 2671, 2672, 2673, 2674, 2675, 2676, 2677, 2678, 2679, 2680, 2681, 2682, 2683, 2684, 2685, 2686, 2687, 2688, 2689, 2690, 2691, 2692, 2693, 2694, 2695, 2696, 2697, 2698, 2699, 2700, 2701, 2702, 2703, 2704, 2705, 2706, 2707, 2708, 2709, 2710, 2711, 2712, 2713, 2714, 2715, 2716, 2717, 2718, 2719, 2720, 2721, 2722, 2723, 2724, 2725, 2726, 2727, 2728, 2729, 2730, 2731, 2732, 2733, 2734, 2735, 2736, 2737, 2738, 2739, 2740, 2741, 2742, 2743, 2744, 2745, 2746, 2747, 2748, 2749, 2750, 2751, 2752, 2753, 2754, 2755, 2756, 2757, 2758, 2759, 2760, 2761, 2762, 2763, 2764, 2765, 2766, 2767, 2768, 2769, 2770, 2771, 2772, 2773, 2774, 2775, 2776, 2779, 2781, 2783, 2785, 2787, 2789, 2791, 2796, 2797, 2807, 2808, 2809, 2811, 2812, 2813, 2814, 2815, 2816, 2817, 2818, 2819, 2822, 2823, 2824, 2825, 2826, 2827, 2828, 2829, 2830, 2831, 2832, 2833, 2834, 2837, 2838, 2839, 2840, 2841, 2842, 2844, 2845, 2846, 2847, 2855, 2864, 2865, 2887, 2888, 2907, 2998, 3028, 3056, 3096, 3104, 3115, 3190, 3213, 3259, 3327, 3398, 3440, 3471, 3529, 3540, 3602, 3618, 3622, 3623, 3625, 3645, 3646, 3669, 3680, 3681, 3685, 3686, 3693, 3699, 3710, 3711, 3716, 3724, 3725, 3726, 3727, 3753, 3836, 3873, 3913, 3915, 3916, 3917, 3918, 3932, 3933, 3934, 3935, 3936, 3943, 3946, 3947, 3948, 3949, 3951, 3963, 3964, 3965, 3967, 3973, 3974, 3981]\n"
     ]
    }
   ],
   "source": [
    "#寻找干扰集\n",
    "a = 0\n",
    "a1 = 0\n",
    "number = []\n",
    "number1 = []\n",
    "for i in range(len(y_pred)):\n",
    "    if y_pred[i]==3:\n",
    "        a += 1\n",
    "        number.append(i)\n",
    "for i in range(len(y_pred)):\n",
    "    if y_pred[i]==2:\n",
    "        a1 += 1\n",
    "        number1.append(i)\n",
    "print(a,number1)"
   ]
  },
  {
   "cell_type": "code",
   "execution_count": 6,
   "id": "9d81fafb-ddf5-4ef5-b506-0fb8f312c986",
   "metadata": {},
   "outputs": [
    {
     "name": "stdout",
     "output_type": "stream",
     "text": [
      "(3450, 10170)\n",
      "(3450,)\n",
      "533\n"
     ]
    }
   ],
   "source": [
    "#处理数据\n",
    "ar = number1+number\n",
    "dataj_x = np.delete(face_data, ar, axis=0)\n",
    "data1_y = np.delete(data_y, ar)\n",
    "print(dataj_x.shape)\n",
    "print(data1_y.shape)\n",
    "print(len(ar))"
   ]
  },
  {
   "cell_type": "code",
   "execution_count": 7,
   "id": "0908caeb-a243-4b06-ad30-ae52f3a19492",
   "metadata": {},
   "outputs": [
    {
     "name": "stdout",
     "output_type": "stream",
     "text": [
      "(3450, 10170)\n",
      "(3450,)\n"
     ]
    }
   ],
   "source": [
    "#处理完毕\n",
    "face_data = dataj_x\n",
    "face_target = data1_y\n",
    "print(face_data.shape)\n",
    "print(face_target.shape)"
   ]
  },
  {
   "cell_type": "code",
   "execution_count": 28,
   "id": "46903baa-f326-4a49-b549-9b0ea348a8a2",
   "metadata": {},
   "outputs": [],
   "source": [
    "X_train,X_test,Y_train,Y_test = train_test_split(face_data,face_target,shuffle = True,random_state=110,test_size = 0.3)"
   ]
  },
  {
   "cell_type": "code",
   "execution_count": 29,
   "id": "2e201424-3f06-4f46-aab8-45fc1e04b777",
   "metadata": {},
   "outputs": [
    {
     "name": "stdout",
     "output_type": "stream",
     "text": [
      "0.6666666666666666\n"
     ]
    }
   ],
   "source": [
    "bnb = BernoulliNB().fit(X_train,Y_train)\n",
    "acc_score = bnb.score(X_test,Y_test)\n",
    "#print(acc_score21)\n",
    "print(acc_score)"
   ]
  },
  {
   "cell_type": "code",
   "execution_count": null,
   "id": "aa59a106-fc9d-4446-8c6f-7abbe8960c1b",
   "metadata": {},
   "outputs": [],
   "source": []
  }
 ],
 "metadata": {
  "kernelspec": {
   "display_name": "PyTorch-1.8",
   "language": "python",
   "name": "pytorch-1.8"
  },
  "language_info": {
   "codemirror_mode": {
    "name": "ipython",
    "version": 3
   },
   "file_extension": ".py",
   "mimetype": "text/x-python",
   "name": "python",
   "nbconvert_exporter": "python",
   "pygments_lexer": "ipython3",
   "version": "3.7.10"
  }
 },
 "nbformat": 4,
 "nbformat_minor": 5
}
