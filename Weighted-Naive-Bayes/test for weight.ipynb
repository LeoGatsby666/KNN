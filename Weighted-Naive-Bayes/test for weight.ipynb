{
 "cells": [
  {
   "cell_type": "code",
   "execution_count": 1,
   "id": "8f3f612c-6836-4b02-8ceb-9806b8f32a0f",
   "metadata": {},
   "outputs": [],
   "source": [
    "import numpy as np\n",
    "from sklearn.decomposition import PCA \n",
    "import matplotlib.pyplot as plt\n",
    "from sklearn.naive_bayes import GaussianNB\n",
    "from sklearn.naive_bayes import MultinomialNB\n",
    "from NB1 import BernoulliNB\n",
    "from sklearn.naive_bayes import ComplementNB\n",
    "import os\n",
    "from sklearn.model_selection import train_test_split\n",
    "from sklearn.model_selection import cross_val_score\n",
    "from sklearn.ensemble import AdaBoostClassifier\n",
    "from sklearn.preprocessing import MinMaxScaler"
   ]
  },
  {
   "cell_type": "code",
   "execution_count": 2,
   "id": "075ece9b-83b4-4c26-87de-02423e7a9f86",
   "metadata": {},
   "outputs": [],
   "source": [
    "#缩小图片规格，以减少计算量及因图片错误引起的无关因素规格为113x90\n",
    "def depart(initial_matrix):\n",
    "    kl = initial_matrix[15:]\n",
    "    tk = []\n",
    "    for i in range(113):    \n",
    "        t = kl[i][20:110]\n",
    "        tk.append(t)\n",
    "    return tk\n",
    "#离散处理数据像素，使其可能取值数量为17\n",
    "def lisan(ol):\n",
    "    for i in range(113):\n",
    "        for j in range(90):\n",
    "            ol[i][j] = (ol[i][j]//15)*15+7\n",
    "    return ol\n",
    "def lisan1(ol):\n",
    "    for i in range(len(ol)):\n",
    "        ol[i] = (ol[i]//15)*15+7\n",
    "    return ol\n",
    "def cou_male(a):\n",
    "    '''\n",
    "    统计男性数量\n",
    "    '''\n",
    "    t = 0\n",
    "    for i in a:\n",
    "        if i==1:\n",
    "            t += 1\n",
    "    return t\n",
    "#寻找男性坐标\n",
    "def findex(a):\n",
    "    num = []\n",
    "    for i in range(len(a)):\n",
    "        if a[i] == 1:\n",
    "            num.append(i)\n",
    "    return num\n",
    "#计算权重，注意，此时特征向量已经拉长处理\n",
    "def weigh(data_x,data_y):\n",
    "    kp = findex(data_y)#记录男性坐标\n",
    "    k = [i for i in range(len(data_y))]\n",
    "    #得出女性坐标\n",
    "    for i in kp:\n",
    "        k.remove(i)\n",
    "    al = [0]*len(data_x[0])#建立特征向量的空数组\n",
    "    #循环求解\n",
    "    for n in kp:\n",
    "        for t in k:\n",
    "            for i in range(len(data_x[0])):\n",
    "                #不同则加一\n",
    "                if data_x[n][i]!=data_x[t][i]:\n",
    "                    al[i] += 1\n",
    "    he = sum(al)\n",
    "    tp = []\n",
    "    for i in range(len(al)):\n",
    "        tp.append(al[i]/he)\n",
    "    tj = tp.copy()\n",
    "    tj.sort()\n",
    "    a = []\n",
    "    #归一化\n",
    "    for i in tp:\n",
    "        tpk = (i-tj[0])/(tj[len(tp)-1]-tj[0])\n",
    "        a.append(tpk)\n",
    "    #向上平移1\n",
    "    for i in range(len(a)):\n",
    "        a[i] += 1 \n",
    "    #乘以一个倍数\n",
    "    for i in range(len(a)):\n",
    "        if a[i] != 1:\n",
    "            a[i] = a[i]*3\n",
    "    a = np.array(a)\n",
    "    return a    "
   ]
  },
  {
   "cell_type": "code",
   "execution_count": 3,
   "id": "3a3dd7bf-b028-46cc-92e6-5117b1b8fa93",
   "metadata": {},
   "outputs": [],
   "source": [
    "# 源数据处理\n",
    "all_file = os.listdir('./face/rawdata')\n",
    "# 读取所有data_x数据,  有问题的数据：第1186个，2412号；第1190个，2416号 ；2021号\n",
    "data_x = np.zeros((len(all_file),128,128))\n",
    "data_y = np.zeros(len(all_file))\n",
    "data1_x = np.zeros((len(all_file),113,90))\n",
    "\n",
    "# 将两个数据标签整理再一起\n",
    "f = open('./face/faceDR','r')\n",
    "r1 = f.readlines()\n",
    "f.close()\n",
    "\n",
    "f = open('./face/faceDS','r')\n",
    "r2 = f.readlines()\n",
    "f.close()\n",
    "for i in r2:\n",
    "    r1.append(i)\n",
    "\n",
    "# 整理出data_x,和data_y\n",
    "all_file = os.listdir('./face/rawdata')\n",
    "for i in range(len(all_file)):\n",
    "    with open('./face/rawdata/'+all_file[i],'rb') as f:\n",
    "        x = np.fromfile(f,dtype=np.ubyte)\n",
    "        t = x.reshape(128,-1)\n",
    "        data_x[i] = t\n",
    "        for j in r1:\n",
    "            if all_file[i] in j:\n",
    "                if 'female' in j:\n",
    "                    data_y[i] = 0\n",
    "                elif 'male' in j:\n",
    "                    data_y[i] = 1\n",
    "                else:\n",
    "                    data_y[i] = None\n",
    "                break\n",
    "#缩小图片，及离散处理\n",
    "for i in range(len(all_file)):\n",
    "    data1_x[i] = depart(data_x[i])\n",
    "#    data1_x[i] = lisan(data1_x[i])\n",
    "#进一步处理\n",
    "face_data = data1_x.reshape(data1_x.shape[0],-1)#拉长数组\n",
    "face_target = data_y\n",
    "#PCA降维\n",
    "#pca = PCA(n_components = 300).fit(face_data)\n",
    "#face_data = pca.transform(face_data)\n",
    "\n",
    "\n"
   ]
  },
  {
   "cell_type": "code",
   "execution_count": 5,
   "id": "bad394d6-e8ea-4ba2-a1ba-588632ec3651",
   "metadata": {},
   "outputs": [],
   "source": [
    "#聚类排干扰\n",
    "from sklearn.cluster import KMeans\n",
    "n_clusters = 7\n",
    "cluster = KMeans(n_clusters=n_clusters, random_state=0).fit(face_data)\n",
    "y_pred = cluster.labels_"
   ]
  },
  {
   "cell_type": "code",
   "execution_count": 26,
   "id": "6075ed4f-626c-4b84-af54-1811babbb248",
   "metadata": {},
   "outputs": [
    {
     "name": "stdout",
     "output_type": "stream",
     "text": [
      "53 [24, 137, 326, 329, 335, 336, 338, 339, 384, 396, 404, 406, 407, 408, 409, 410, 412, 424, 429, 431, 438, 484, 492, 499, 510, 551, 552, 553, 554, 562, 564, 581, 612, 615, 616, 621, 637, 657, 816, 853, 854, 855, 866, 867, 883, 884, 885, 896, 897, 906, 907, 915, 941, 942, 945, 946, 947, 948, 951, 952, 985, 986, 1018, 1086, 1087, 1109, 1110, 1120, 1126, 1127, 1153, 1199, 1204, 1222, 1230, 1241, 1242, 1243, 1260, 1261, 1272, 1273, 1342, 1350, 1351, 1353, 1354, 1355, 1356, 1357, 1358, 1359, 1360, 1361, 1435, 1466, 1467, 1500, 1529, 1551, 1566, 1608, 1609, 1618, 1619, 1620, 1656, 1658, 1665, 1683, 1684, 1698, 1708, 1723, 1737, 1740, 1776, 1814, 1815, 1818, 1819, 1821, 1822, 1827, 1846, 1847, 1848, 1868, 1869, 1910, 2020, 2043, 2045, 2047, 2133, 2139, 2141, 2145, 2146, 2191, 2192, 2193, 2194, 2195, 2196, 2197, 2198, 2199, 2200, 2202, 2203, 2204, 2205, 2206, 2207, 2208, 2209, 2210, 2211, 2215, 2218, 2220, 2221, 2223, 2224, 2226, 2228, 2229, 2230, 2231, 2232, 2233, 2234, 2235, 2236, 2237, 2238, 2239, 2240, 2241, 2242, 2243, 2244, 2245, 2246, 2247, 2248, 2249, 2250, 2251, 2252, 2253, 2254, 2255, 2256, 2257, 2258, 2306, 2467, 2500, 2549, 2605, 2611, 2612, 2613, 2614, 2615, 2616, 2617, 2618, 2619, 2620, 2621, 2622, 2623, 2624, 2625, 2626, 2627, 2628, 2629, 2630, 2631, 2632, 2633, 2634, 2635, 2636, 2637, 2638, 2639, 2640, 2641, 2642, 2643, 2644, 2645, 2646, 2647, 2648, 2649, 2650, 2651, 2652, 2653, 2654, 2655, 2656, 2657, 2658, 2659, 2660, 2661, 2662, 2663, 2664, 2665, 2666, 2667, 2668, 2669, 2670, 2671, 2672, 2673, 2674, 2675, 2676, 2677, 2678, 2679, 2680, 2681, 2682, 2683, 2684, 2685, 2686, 2687, 2688, 2689, 2690, 2691, 2692, 2693, 2694, 2695, 2696, 2697, 2698, 2699, 2700, 2701, 2702, 2703, 2704, 2705, 2706, 2707, 2708, 2709, 2710, 2711, 2712, 2713, 2714, 2715, 2716, 2717, 2718, 2719, 2720, 2721, 2722, 2723, 2724, 2725, 2726, 2727, 2728, 2729, 2730, 2731, 2732, 2733, 2734, 2735, 2736, 2737, 2738, 2739, 2740, 2741, 2742, 2743, 2744, 2745, 2746, 2747, 2748, 2749, 2750, 2751, 2752, 2753, 2754, 2755, 2756, 2757, 2758, 2759, 2760, 2761, 2762, 2763, 2764, 2765, 2766, 2767, 2768, 2769, 2770, 2771, 2772, 2773, 2774, 2775, 2776, 2779, 2781, 2783, 2785, 2787, 2789, 2791, 2796, 2797, 2807, 2808, 2809, 2811, 2812, 2813, 2814, 2815, 2816, 2817, 2818, 2819, 2822, 2823, 2824, 2825, 2826, 2827, 2828, 2829, 2830, 2831, 2832, 2833, 2834, 2837, 2838, 2839, 2840, 2841, 2842, 2844, 2845, 2846, 2847, 2855, 2864, 2865, 2887, 2888, 2907, 2998, 3028, 3056, 3096, 3104, 3115, 3190, 3213, 3259, 3327, 3398, 3440, 3471, 3529, 3540, 3602, 3618, 3622, 3623, 3625, 3645, 3646, 3669, 3680, 3681, 3685, 3686, 3693, 3699, 3710, 3711, 3716, 3724, 3725, 3726, 3727, 3753, 3836, 3873, 3913, 3915, 3916, 3917, 3918, 3932, 3933, 3934, 3935, 3936, 3943, 3946, 3947, 3948, 3949, 3951, 3963, 3964, 3965, 3967, 3973, 3974, 3981]\n"
     ]
    }
   ],
   "source": [
    "#寻找干扰集\n",
    "a = 0\n",
    "a1 = 0\n",
    "number = []\n",
    "number1 = []\n",
    "for i in range(len(y_pred)):\n",
    "    if y_pred[i]==3:\n",
    "        a += 1\n",
    "        number.append(i)\n",
    "for i in range(len(y_pred)):\n",
    "    if y_pred[i]==2:\n",
    "        a1 += 1\n",
    "        number1.append(i)\n",
    "print(a,number1)"
   ]
  },
  {
   "cell_type": "code",
   "execution_count": 19,
   "id": "856d7af4-94ef-43ac-90b3-14999ee72fba",
   "metadata": {},
   "outputs": [
    {
     "data": {
      "text/plain": [
       "2"
      ]
     },
     "execution_count": 19,
     "metadata": {},
     "output_type": "execute_result"
    }
   ],
   "source": [
    "#观察所在类别\n",
    "y_pred[2818]"
   ]
  },
  {
   "cell_type": "code",
   "execution_count": 20,
   "id": "73367192-2a08-414e-b4d7-6704e40b43a3",
   "metadata": {},
   "outputs": [
    {
     "data": {
      "image/png": "[encoded data removed]",
      "text/plain": [
       "<Figure size 432x288 with 1 Axes>"
      ]
     },
     "metadata": {
      "needs_background": "light"
     },
     "output_type": "display_data"
    }
   ],
   "source": [
    "#观察样本\n",
    "kpk = data1_x[2818]\n",
    "plt.imshow(kpk,cmap=plt.cm.gray)\n",
    "plt.show()"
   ]
  },
  {
   "cell_type": "code",
   "execution_count": 7,
   "id": "be6b1c05-a4ee-451c-9f0b-02de5f831745",
   "metadata": {},
   "outputs": [
    {
     "name": "stdout",
     "output_type": "stream",
     "text": [
      "(3450, 10170)\n",
      "(3450,)\n",
      "533\n"
     ]
    }
   ],
   "source": [
    "#处理数据\n",
    "ar = number1+number\n",
    "dataj_x = np.delete(face_data, ar, axis=0)\n",
    "data1_y = np.delete(data_y, ar)\n",
    "print(dataj_x.shape)\n",
    "print(data1_y.shape)\n",
    "print(len(ar))"
   ]
  },
  {
   "cell_type": "code",
   "execution_count": 8,
   "id": "77d716a9-ae93-4009-acbc-be77c744f250",
   "metadata": {},
   "outputs": [
    {
     "name": "stdout",
     "output_type": "stream",
     "text": [
      "(3450, 10170)\n",
      "(3450,)\n"
     ]
    }
   ],
   "source": [
    "#处理完毕\n",
    "face_data = dataj_x\n",
    "face_target = data1_y\n",
    "print(face_data.shape)\n",
    "print(face_target.shape)"
   ]
  },
  {
   "cell_type": "code",
   "execution_count": 39,
   "id": "2a6196a5-0c1c-4963-aca6-9c853770c943",
   "metadata": {},
   "outputs": [],
   "source": [
    "X_train,X_test,Y_train,Y_test = train_test_split(face_data,face_target,shuffle = True,random_state=120,test_size = 0.3)"
   ]
  },
  {
   "cell_type": "code",
   "execution_count": 16,
   "id": "5f115046-e5b2-493a-8699-d40774fcc734",
   "metadata": {},
   "outputs": [],
   "source": [
    "#归一化\n",
    "mms = MinMaxScaler().fit(X_train)\n",
    "X_train_ = mms.transform(X_train)\n",
    "X_test_=mms.transform(X_test)\n",
    "face_data_ = mms.transform(face_data)"
   ]
  },
  {
   "cell_type": "code",
   "execution_count": 9,
   "id": "f7a6dbff-415b-471f-bf92-83fe90c7a3e7",
   "metadata": {},
   "outputs": [],
   "source": [
    "data5_x = face_data[:500]\n",
    "data5_y = face_target[:500]\n",
    "data6_x = face_data[500:1000]\n",
    "data6_y = face_target[500:1000]"
   ]
  },
  {
   "cell_type": "code",
   "execution_count": 12,
   "id": "345118ce-c2a3-4be5-8049-6da5319a437e",
   "metadata": {},
   "outputs": [],
   "source": [
    "ap = weigh(data5_x,data5_y)\n",
    "lkj = [ap,ap]"
   ]
  },
  {
   "cell_type": "code",
   "execution_count": 17,
   "id": "b5c0bd55-00dd-4115-86b8-216677bd10b5",
   "metadata": {},
   "outputs": [
    {
     "name": "stdout",
     "output_type": "stream",
     "text": [
      "0.508 0.508\n"
     ]
    }
   ],
   "source": [
    "bnbk = BernoulliNB().fit(data5_x,data5_y)\n",
    "#bnbkk = BernoulliNB(weigh = lkj).fit(data5_x,data5_y)\n",
    "score1 = bnbk.score(data6_x,data6_y)\n",
    "score2 = bnbk.score(data6_x,data6_y)\n",
    "print(score1,score2)"
   ]
  },
  {
   "cell_type": "code",
   "execution_count": 10,
   "id": "fc22545f-8467-4e5b-876d-f35c2f9e2cb1",
   "metadata": {},
   "outputs": [
    {
     "data": {
      "image/png": "[encoded data removed]",
      "text/plain": [
       "<Figure size 432x288 with 1 Axes>"
      ]
     },
     "metadata": {
      "needs_background": "light"
     },
     "output_type": "display_data"
    }
   ],
   "source": [
    "#计算权重\n",
    "data2_x = np.zeros((len(dataj_x),10170))\n",
    "for i in range(len(dataj_x)):\n",
    "    data2_x[i] = lisan1(dataj_x[i])\n",
    "face_data1 = data2_x\n",
    "face_data_tes = face_data1[2000:2050]\n",
    "data_y_tes = data_y[2000:2050]\n",
    "e = weigh(face_data_tes,data_y_tes)\n",
    "he = [e,e]\n",
    "plt.plot(range(len(e)),e,color='red')\n",
    "plt.grid()\n",
    "plt.show()"
   ]
  },
  {
   "cell_type": "code",
   "execution_count": 12,
   "id": "093bc9c7-a6f4-4818-ab91-1bd152e699c0",
   "metadata": {},
   "outputs": [
    {
     "name": "stdout",
     "output_type": "stream",
     "text": [
      "(2415, 10170)\n"
     ]
    }
   ],
   "source": [
    "#print(face_data1.shape)\n",
    "print(X_train.shape)"
   ]
  },
  {
   "cell_type": "code",
   "execution_count": 9,
   "id": "fc44567c-ee1d-4431-aaab-b7274806fb51",
   "metadata": {},
   "outputs": [
    {
     "name": "stdout",
     "output_type": "stream",
     "text": [
      "(483, 10170)\n",
      "(483,)\n",
      "290\n"
     ]
    }
   ],
   "source": [
    "#计算权重（训练版本）\n",
    "data3_x = np.zeros((len(X_train),10170))\n",
    "for i in range(len(X_train)):\n",
    "    data3_x[i] = lisan1(X_train[i])\n",
    "data4_x = data3_x[:2415:5]\n",
    "Y_train1 = Y_train[:2415:5]\n",
    "print(data4_x.shape)\n",
    "print(Y_train1.shape)\n",
    "print(cou_male(Y_train1))"
   ]
  },
  {
   "cell_type": "code",
   "execution_count": 10,
   "id": "f9a3e152-8a68-45eb-987d-421d41c0f138",
   "metadata": {},
   "outputs": [
    {
     "name": "stdout",
     "output_type": "stream",
     "text": [
      "(2415, 10170)\n"
     ]
    }
   ],
   "source": [
    "print(data3_x.shape)"
   ]
  },
  {
   "cell_type": "code",
   "execution_count": 11,
   "id": "0a90403d-bb1c-47de-80f7-9c2f6f71c28b",
   "metadata": {},
   "outputs": [],
   "source": [
    "pj = weigh(data4_x,Y_train1)\n",
    "plj = [pj,pj]"
   ]
  },
  {
   "cell_type": "code",
   "execution_count": 31,
   "id": "9a86f30e-69e9-47d2-8a0b-9fee6012c9d1",
   "metadata": {},
   "outputs": [],
   "source": [
    "#计算权重（全值版本）\n",
    "data2_x = np.zeros((len(dataj_x),10170))\n",
    "for i in range(len(dataj_x)):\n",
    "    data2_x[i] = lisan1(dataj_x[i])\n",
    "\n",
    "\n",
    "\n",
    "#k = weigh(data2_x,data1_y)\n",
    "#ke = [k,k]\n",
    "#plt.plot(range(len(e)),e,color='red')\n",
    "#plt.grid()\n",
    "#plt.show()"
   ]
  },
  {
   "cell_type": "code",
   "execution_count": null,
   "id": "1ee9dfa1-6542-4ceb-9079-a0cd7ef16486",
   "metadata": {},
   "outputs": [],
   "source": [
    "print(data2_x[2660][4500])\n",
    "print(data2_x.shape)\n",
    "print(data1_y.shape)"
   ]
  },
  {
   "cell_type": "code",
   "execution_count": null,
   "id": "580637b3-b79f-4af3-af55-64a8f22dcb6b",
   "metadata": {},
   "outputs": [],
   "source": [
    "k = weigh(data2_x,data1_y)\n",
    "ke = [k,k]\n",
    "plt.plot(range(len(e)),e,color='red')\n",
    "plt.grid()\n",
    "plt.show()"
   ]
  },
  {
   "cell_type": "code",
   "execution_count": 11,
   "id": "34b9cd51-a61b-4ec6-9aa2-527bd97804aa",
   "metadata": {},
   "outputs": [
    {
     "data": {
      "image/png": "[encoded data removed]",
      "text/plain": [
       "<Figure size 432x288 with 1 Axes>"
      ]
     },
     "metadata": {
      "needs_background": "light"
     },
     "output_type": "display_data"
    }
   ],
   "source": [
    "plt.plot(range(100),e[4000:4100],color='red')\n",
    "plt.grid()\n",
    "plt.ylabel('weight')\n",
    "plt.xlabel('feature')\n",
    "plt.show()"
   ]
  },
  {
   "cell_type": "code",
   "execution_count": 40,
   "id": "6ca8a009-6834-46ea-8c62-3d914f0b102a",
   "metadata": {},
   "outputs": [],
   "source": [
    "#实例化模型\n",
    "#gnb = GaussianNB().fit(X_train,Y_train) \n",
    "#mnb = MultinomialNB().fit(X_train,Y_train)\n",
    "#bnb = BernoulliNB().fit(X_train,Y_train) \n",
    "bnb1 = BernoulliNB(weigh = he).fit(X_train,Y_train)\n",
    "#bnb_ = BernoulliNB(binarize=0.0,weigh = he).fit(X_train_,Y_train) \n",
    "#cnb = ComplementNB().fit(X_train,Y_train) "
   ]
  },
  {
   "cell_type": "code",
   "execution_count": 41,
   "id": "219bbe81-a693-403e-ad76-7e4ed2270fa6",
   "metadata": {},
   "outputs": [
    {
     "name": "stdout",
     "output_type": "stream",
     "text": [
      "0.6231884057971014\n"
     ]
    }
   ],
   "source": [
    "#acc_score = gnb.score(X_test,Y_test)#高斯分布\n",
    "#acc_score1 = mnb.score(X_test,Y_test)#多项式朴素贝叶斯分类器MultinomialNB\n",
    "#acc_score2 = bnb.score(X_test,Y_test)#伯劳尼朴素贝叶斯分类器BernoulliNB\n",
    "acc_score21 = bnb1.score(X_test,Y_test)\n",
    "#acc_score2_1 = bnb_.score(X_test_,Y_test)\n",
    "#acc_score3 = cnb.score(X_test,Y_test)#补集多项式\n",
    "#print(acc_score,acc_score1,acc_score2,acc_score3)\n",
    "#print(acc_score,acc_score2)\n",
    "print(acc_score21)#PCA以后能得73~72"
   ]
  },
  {
   "cell_type": "code",
   "execution_count": 22,
   "id": "6388fcda-58f7-4188-b27e-d04e8f178c50",
   "metadata": {},
   "outputs": [],
   "source": [
    "#cv1 = cross_val_score(bnb,face_data,face_target,cv=5)\n",
    "cv2 = cross_val_score(bnb1,face_data,face_target,cv=5)"
   ]
  },
  {
   "cell_type": "code",
   "execution_count": 24,
   "id": "ef398af8-2b5a-4c23-bcaa-071fb3c19f05",
   "metadata": {},
   "outputs": [
    {
     "name": "stdout",
     "output_type": "stream",
     "text": [
      "[0.63623188 0.63623188 0.63478261 0.63478261 0.63478261]\n",
      "0.6353623188405797\n"
     ]
    }
   ],
   "source": [
    "print(cv2)\n",
    "print(sum(cv2)/5)"
   ]
  },
  {
   "cell_type": "code",
   "execution_count": 25,
   "id": "59b629f0-df92-43f6-9d47-e368d5cc4f56",
   "metadata": {},
   "outputs": [
    {
     "data": {
      "image/png": "[encoded data removed]",
      "text/plain": [
       "<Figure size 432x288 with 1 Axes>"
      ]
     },
     "metadata": {
      "needs_background": "light"
     },
     "output_type": "display_data"
    }
   ],
   "source": [
    "import numpy as np\n",
    "import matplotlib.pyplot as plt\n",
    "#各个模型效果对比图\n",
    "\n",
    "fig = plt.figure()\n",
    "x = [1,2,3,4,5]\n",
    "yerr = np.linspace(0.05, 0.2, 5)\n",
    "#plt.errorbar(x, cv1,  yerr=yerr, uplims=True, lolims=True,\n",
    "#             label='Naive Bayesian')\n",
    "plt.errorbar(x, cv2,  yerr=yerr, uplims=True, lolims=True,\n",
    "             label='Weighted Naive Bayesian')\n",
    "plt.grid()\n",
    "plt.xlabel('Cross Validation Time')\n",
    "plt.ylabel('Accuracy')\n",
    "plt.legend(loc='upper right')\n",
    "plt.show()"
   ]
  },
  {
   "cell_type": "code",
   "execution_count": 37,
   "id": "896796a5-8294-470d-9ed5-3bc2873e0c62",
   "metadata": {},
   "outputs": [
    {
     "name": "stdout",
     "output_type": "stream",
     "text": [
      "Adaboost-NB AUC： 0.36463768115942036\n"
     ]
    }
   ],
   "source": [
    "#集成学习\n",
    "clf = AdaBoostClassifier(base_estimator=bnb1, n_estimators=20)\n",
    "scores = cross_val_score(clf, face_data,face_target, cv=5)\n",
    "print('Adaboost-NB AUC：',scores.mean())"
   ]
  }
 ],
 "metadata": {
  "kernelspec": {
   "display_name": "PyTorch-1.8",
   "language": "python",
   "name": "pytorch-1.8"
  },
  "language_info": {
   "codemirror_mode": {
    "name": "ipython",
    "version": 3
   },
   "file_extension": ".py",
   "mimetype": "text/x-python",
   "name": "python",
   "nbconvert_exporter": "python",
   "pygments_lexer": "ipython3",
   "version": "3.7.10"
  }
 },
 "nbformat": 4,
 "nbformat_minor": 5
}
