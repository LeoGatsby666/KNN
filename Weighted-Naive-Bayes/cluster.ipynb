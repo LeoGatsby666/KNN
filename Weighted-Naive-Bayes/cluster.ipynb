{
 "cells": [
  {
   "cell_type": "code",
   "execution_count": 1,
   "id": "b0982ed8-4eb2-4522-80e0-80ce5c62526c",
   "metadata": {},
   "outputs": [],
   "source": [
    "from sklearn.datasets import make_blobs\n",
    "import matplotlib.pyplot as plt\n",
    "import numpy as np\n",
    "import os"
   ]
  },
  {
   "cell_type": "code",
   "execution_count": 3,
   "id": "e1bf3159-1d14-4398-8a4e-3d01baf08bca",
   "metadata": {},
   "outputs": [],
   "source": [
    "def depart(initial_matrix):\n",
    "    kl = initial_matrix[15:]\n",
    "    tk = []\n",
    "    for i in range(113):    \n",
    "        t = kl[i][20:110]\n",
    "        tk.append(t)\n",
    "    return tk"
   ]
  },
  {
   "cell_type": "code",
   "execution_count": 4,
   "id": "76daae57-0f1f-4212-a370-4a6b5e06665a",
   "metadata": {},
   "outputs": [],
   "source": [
    "all_file = os.listdir('./face/rawdata')\n",
    "data_x = np.zeros((len(all_file),128,128))\n",
    "data_y = np.zeros(len(all_file))\n",
    "data1_x = np.zeros((len(all_file),113,90))\n",
    "data2_x = np.zeros((len(all_file),113,90))\n",
    "# 将两个数据标签整理再一起\n",
    "f = open('./face/faceDR','r')\n",
    "r1 = f.readlines()\n",
    "f.close()\n",
    "\n",
    "f = open('./face/faceDS','r')\n",
    "r2 = f.readlines()\n",
    "f.close()\n",
    "for i in r2:\n",
    "    r1.append(i)\n",
    "\n",
    "# 整理出data_x,和data_y\n",
    "all_file = os.listdir('./face/rawdata')\n",
    "for i in range(len(all_file)):\n",
    "    with open('./face/rawdata/'+all_file[i],'rb') as f:\n",
    "        x = np.fromfile(f,dtype=np.ubyte)\n",
    "        t = x.reshape(128,-1)\n",
    "        data_x[i] = t\n",
    "        for j in r1:\n",
    "            if all_file[i] in j:\n",
    "                if 'female' in j:\n",
    "                    data_y[i] = 0\n",
    "                elif 'male' in j:\n",
    "                    data_y[i] = 1\n",
    "                else:\n",
    "                    data_y[i] = None\n",
    "                break\n",
    "#缩小图片，及离散处理\n",
    "for i in range(len(all_file)):\n",
    "    data1_x[i] = depart(data_x[i])"
   ]
  },
  {
   "cell_type": "code",
   "execution_count": 5,
   "id": "7a52f6df-5b76-41a4-9a01-a9b45ea5461d",
   "metadata": {},
   "outputs": [
    {
     "data": {
      "text/plain": [
       "(3983, 113, 90)"
      ]
     },
     "execution_count": 5,
     "metadata": {},
     "output_type": "execute_result"
    }
   ],
   "source": [
    "data1_x.shape"
   ]
  },
  {
   "cell_type": "code",
   "execution_count": 6,
   "id": "2e823cab-c82d-470b-be84-b99190499ed3",
   "metadata": {},
   "outputs": [],
   "source": [
    "X = data1_x.reshape(data1_x.shape[0],-1)#拉长数组"
   ]
  },
  {
   "cell_type": "code",
   "execution_count": 7,
   "id": "2564d6f1-75ae-4f29-a8b8-9f82192b72ba",
   "metadata": {},
   "outputs": [
    {
     "data": {
      "text/plain": [
       "(3983, 10170)"
      ]
     },
     "execution_count": 7,
     "metadata": {},
     "output_type": "execute_result"
    }
   ],
   "source": [
    "X.shape"
   ]
  },
  {
   "cell_type": "code",
   "execution_count": 8,
   "id": "6340e8a0-87d6-4d0d-928d-10d9e771543a",
   "metadata": {},
   "outputs": [],
   "source": [
    "from sklearn.cluster import KMeans\n",
    "n_clusters = 7\n",
    "cluster = KMeans(n_clusters=n_clusters, random_state=0).fit(X)"
   ]
  },
  {
   "cell_type": "code",
   "execution_count": 9,
   "id": "244dde64-9210-478c-961a-b56a491e31b2",
   "metadata": {},
   "outputs": [],
   "source": [
    "y_pred = cluster.labels_"
   ]
  },
  {
   "cell_type": "code",
   "execution_count": 10,
   "id": "7b043f2f-1c08-4fa1-8e46-d4f2cb6bc8fb",
   "metadata": {},
   "outputs": [
    {
     "name": "stdout",
     "output_type": "stream",
     "text": [
      "480 [24, 137, 326, 329, 335, 336, 338, 339, 384, 396, 404, 406, 407, 408, 409, 410, 412, 424, 429, 431, 438, 484, 492, 499, 510, 551, 552, 553, 554, 562, 564, 581, 612, 615, 616, 621, 637, 657, 816, 853, 854, 855, 866, 867, 883, 884, 885, 896, 897, 906, 907, 915, 941, 942, 945, 946, 947, 948, 951, 952, 985, 986, 1018, 1086, 1087, 1109, 1110, 1120, 1126, 1127, 1153, 1199, 1204, 1222, 1230, 1241, 1242, 1243, 1260, 1261, 1272, 1273, 1342, 1350, 1351, 1353, 1354, 1355, 1356, 1357, 1358, 1359, 1360, 1361, 1435, 1466, 1467, 1500, 1529, 1551, 1566, 1608, 1609, 1618, 1619, 1620, 1656, 1658, 1665, 1683, 1684, 1698, 1708, 1723, 1737, 1740, 1776, 1814, 1815, 1818, 1819, 1821, 1822, 1827, 1846, 1847, 1848, 1868, 1869, 1910, 2020, 2043, 2045, 2047, 2133, 2139, 2141, 2145, 2146, 2191, 2192, 2193, 2194, 2195, 2196, 2197, 2198, 2199, 2200, 2202, 2203, 2204, 2205, 2206, 2207, 2208, 2209, 2210, 2211, 2215, 2218, 2220, 2221, 2223, 2224, 2226, 2228, 2229, 2230, 2231, 2232, 2233, 2234, 2235, 2236, 2237, 2238, 2239, 2240, 2241, 2242, 2243, 2244, 2245, 2246, 2247, 2248, 2249, 2250, 2251, 2252, 2253, 2254, 2255, 2256, 2257, 2258, 2306, 2467, 2500, 2549, 2605, 2611, 2612, 2613, 2614, 2615, 2616, 2617, 2618, 2619, 2620, 2621, 2622, 2623, 2624, 2625, 2626, 2627, 2628, 2629, 2630, 2631, 2632, 2633, 2634, 2635, 2636, 2637, 2638, 2639, 2640, 2641, 2642, 2643, 2644, 2645, 2646, 2647, 2648, 2649, 2650, 2651, 2652, 2653, 2654, 2655, 2656, 2657, 2658, 2659, 2660, 2661, 2662, 2663, 2664, 2665, 2666, 2667, 2668, 2669, 2670, 2671, 2672, 2673, 2674, 2675, 2676, 2677, 2678, 2679, 2680, 2681, 2682, 2683, 2684, 2685, 2686, 2687, 2688, 2689, 2690, 2691, 2692, 2693, 2694, 2695, 2696, 2697, 2698, 2699, 2700, 2701, 2702, 2703, 2704, 2705, 2706, 2707, 2708, 2709, 2710, 2711, 2712, 2713, 2714, 2715, 2716, 2717, 2718, 2719, 2720, 2721, 2722, 2723, 2724, 2725, 2726, 2727, 2728, 2729, 2730, 2731, 2732, 2733, 2734, 2735, 2736, 2737, 2738, 2739, 2740, 2741, 2742, 2743, 2744, 2745, 2746, 2747, 2748, 2749, 2750, 2751, 2752, 2753, 2754, 2755, 2756, 2757, 2758, 2759, 2760, 2761, 2762, 2763, 2764, 2765, 2766, 2767, 2768, 2769, 2770, 2771, 2772, 2773, 2774, 2775, 2776, 2779, 2781, 2783, 2785, 2787, 2789, 2791, 2796, 2797, 2807, 2808, 2809, 2811, 2812, 2813, 2814, 2815, 2816, 2817, 2818, 2819, 2822, 2823, 2824, 2825, 2826, 2827, 2828, 2829, 2830, 2831, 2832, 2833, 2834, 2837, 2838, 2839, 2840, 2841, 2842, 2844, 2845, 2846, 2847, 2855, 2864, 2865, 2887, 2888, 2907, 2998, 3028, 3056, 3096, 3104, 3115, 3190, 3213, 3259, 3327, 3398, 3440, 3471, 3529, 3540, 3602, 3618, 3622, 3623, 3625, 3645, 3646, 3669, 3680, 3681, 3685, 3686, 3693, 3699, 3710, 3711, 3716, 3724, 3725, 3726, 3727, 3753, 3836, 3873, 3913, 3915, 3916, 3917, 3918, 3932, 3933, 3934, 3935, 3936, 3943, 3946, 3947, 3948, 3949, 3951, 3963, 3964, 3965, 3967, 3973, 3974, 3981]\n"
     ]
    }
   ],
   "source": [
    "a = 0\n",
    "a1 = 0\n",
    "number = []\n",
    "number1 = []\n",
    "for i in range(len(y_pred)):\n",
    "    if y_pred[i]==3:\n",
    "        a += 1\n",
    "        number.append(i)\n",
    "for i in range(len(y_pred)):\n",
    "    if y_pred[i]==2:\n",
    "        a1 += 1\n",
    "        number1.append(i)\n",
    "print(a1,number1)"
   ]
  },
  {
   "cell_type": "code",
   "execution_count": 23,
   "id": "d56375f4-bcfd-4b36-89da-2fda5656479d",
   "metadata": {},
   "outputs": [
    {
     "name": "stdout",
     "output_type": "stream",
     "text": [
      "2040\n"
     ]
    }
   ],
   "source": [
    "#观察准确率，不重要\n",
    "b = 0\n",
    "k = data_y == y_pred\n",
    "for i in range(len(k)):\n",
    "    if k[i]==True:\n",
    "        b += 1\n",
    "print(b)"
   ]
  },
  {
   "cell_type": "code",
   "execution_count": 186,
   "id": "cbf8bfc5-974e-4a50-a455-fa6013644565",
   "metadata": {},
   "outputs": [
    {
     "data": {
      "text/plain": [
       "6"
      ]
     },
     "execution_count": 186,
     "metadata": {},
     "output_type": "execute_result"
    }
   ],
   "source": [
    "#观察所在类别\n",
    "y_pred[2450]"
   ]
  },
  {
   "cell_type": "code",
   "execution_count": 128,
   "id": "94b5ba87-b0d7-4c05-b772-3b14a31145fb",
   "metadata": {},
   "outputs": [
    {
     "data": {
      "image/png": "[encoded data removed]",
      "text/plain": [
       "<Figure size 432x288 with 1 Axes>"
      ]
     },
     "metadata": {
      "needs_background": "light"
     },
     "output_type": "display_data"
    }
   ],
   "source": [
    "#观察样本\n",
    "k = data1_x[2635]\n",
    "plt.imshow(k,cmap=plt.cm.gray)\n",
    "plt.show()"
   ]
  },
  {
   "cell_type": "code",
   "execution_count": 3,
   "id": "f8c88a0e-a859-4f6b-8eff-6319a0bf8912",
   "metadata": {},
   "outputs": [
    {
     "name": "stdout",
     "output_type": "stream",
     "text": [
      "[1 3 4 5 6 7 8 9]\n",
      "[4 5 6]\n",
      "[[7 8 9]]\n"
     ]
    }
   ],
   "source": [
    "#删除示范\n",
    "a = np.array([[1, 2, 3], [4, 5, 6], [7, 8, 9]])\n",
    "index = [2, 3, 6]\n",
    "new_a = np.delete(a, 1)\n",
    "print(new_a)\n",
    "print(a[1])\n",
    "print(np.delete(a, [0,1], axis=0))"
   ]
  },
  {
   "cell_type": "code",
   "execution_count": 11,
   "id": "b32cecb3-d910-41da-8c8d-a1b3a11206af",
   "metadata": {},
   "outputs": [
    {
     "name": "stdout",
     "output_type": "stream",
     "text": [
      "(3450, 10170)\n",
      "(3450,)\n",
      "(3983, 10170)\n",
      "[24, 137, 326, 329, 335, 336, 338, 339, 384, 396, 404, 406, 407, 408, 409, 410, 412, 424, 429, 431, 438, 484, 492, 499, 510, 551, 552, 553, 554, 562, 564, 581, 612, 615, 616, 621, 637, 657, 816, 853, 854, 855, 866, 867, 883, 884, 885, 896, 897, 906, 907, 915, 941, 942, 945, 946, 947, 948, 951, 952, 985, 986, 1018, 1086, 1087, 1109, 1110, 1120, 1126, 1127, 1153, 1199, 1204, 1222, 1230, 1241, 1242, 1243, 1260, 1261, 1272, 1273, 1342, 1350, 1351, 1353, 1354, 1355, 1356, 1357, 1358, 1359, 1360, 1361, 1435, 1466, 1467, 1500, 1529, 1551, 1566, 1608, 1609, 1618, 1619, 1620, 1656, 1658, 1665, 1683, 1684, 1698, 1708, 1723, 1737, 1740, 1776, 1814, 1815, 1818, 1819, 1821, 1822, 1827, 1846, 1847, 1848, 1868, 1869, 1910, 2020, 2043, 2045, 2047, 2133, 2139, 2141, 2145, 2146, 2191, 2192, 2193, 2194, 2195, 2196, 2197, 2198, 2199, 2200, 2202, 2203, 2204, 2205, 2206, 2207, 2208, 2209, 2210, 2211, 2215, 2218, 2220, 2221, 2223, 2224, 2226, 2228, 2229, 2230, 2231, 2232, 2233, 2234, 2235, 2236, 2237, 2238, 2239, 2240, 2241, 2242, 2243, 2244, 2245, 2246, 2247, 2248, 2249, 2250, 2251, 2252, 2253, 2254, 2255, 2256, 2257, 2258, 2306, 2467, 2500, 2549, 2605, 2611, 2612, 2613, 2614, 2615, 2616, 2617, 2618, 2619, 2620, 2621, 2622, 2623, 2624, 2625, 2626, 2627, 2628, 2629, 2630, 2631, 2632, 2633, 2634, 2635, 2636, 2637, 2638, 2639, 2640, 2641, 2642, 2643, 2644, 2645, 2646, 2647, 2648, 2649, 2650, 2651, 2652, 2653, 2654, 2655, 2656, 2657, 2658, 2659, 2660, 2661, 2662, 2663, 2664, 2665, 2666, 2667, 2668, 2669, 2670, 2671, 2672, 2673, 2674, 2675, 2676, 2677, 2678, 2679, 2680, 2681, 2682, 2683, 2684, 2685, 2686, 2687, 2688, 2689, 2690, 2691, 2692, 2693, 2694, 2695, 2696, 2697, 2698, 2699, 2700, 2701, 2702, 2703, 2704, 2705, 2706, 2707, 2708, 2709, 2710, 2711, 2712, 2713, 2714, 2715, 2716, 2717, 2718, 2719, 2720, 2721, 2722, 2723, 2724, 2725, 2726, 2727, 2728, 2729, 2730, 2731, 2732, 2733, 2734, 2735, 2736, 2737, 2738, 2739, 2740, 2741, 2742, 2743, 2744, 2745, 2746, 2747, 2748, 2749, 2750, 2751, 2752, 2753, 2754, 2755, 2756, 2757, 2758, 2759, 2760, 2761, 2762, 2763, 2764, 2765, 2766, 2767, 2768, 2769, 2770, 2771, 2772, 2773, 2774, 2775, 2776, 2779, 2781, 2783, 2785, 2787, 2789, 2791, 2796, 2797, 2807, 2808, 2809, 2811, 2812, 2813, 2814, 2815, 2816, 2817, 2818, 2819, 2822, 2823, 2824, 2825, 2826, 2827, 2828, 2829, 2830, 2831, 2832, 2833, 2834, 2837, 2838, 2839, 2840, 2841, 2842, 2844, 2845, 2846, 2847, 2855, 2864, 2865, 2887, 2888, 2907, 2998, 3028, 3056, 3096, 3104, 3115, 3190, 3213, 3259, 3327, 3398, 3440, 3471, 3529, 3540, 3602, 3618, 3622, 3623, 3625, 3645, 3646, 3669, 3680, 3681, 3685, 3686, 3693, 3699, 3710, 3711, 3716, 3724, 3725, 3726, 3727, 3753, 3836, 3873, 3913, 3915, 3916, 3917, 3918, 3932, 3933, 3934, 3935, 3936, 3943, 3946, 3947, 3948, 3949, 3951, 3963, 3964, 3965, 3967, 3973, 3974, 3981, 321, 2010, 2052, 2053, 2057, 2060, 2064, 2065, 2072, 2073, 2074, 2077, 2078, 2080, 2081, 2083, 2084, 2085, 2088, 2089, 2090, 2091, 2092, 2093, 2094, 2126, 2464, 3002, 3003, 3030, 3050, 3057, 3093, 3108, 3109, 3110, 3113, 3114, 3116, 3117, 3118, 3119, 3120, 3185, 3229, 3331, 3472, 3879, 3880, 3888, 3889, 3897, 3898]\n"
     ]
    }
   ],
   "source": [
    "#处理数据\n",
    "k = number1+number\n",
    "data2_x = np.delete(X, k, axis=0)\n",
    "data1_y = np.delete(data_y, k)\n",
    "print(data2_x.shape)\n",
    "print(data1_y.shape)\n",
    "print(X.shape)\n",
    "print(k)"
   ]
  },
  {
   "cell_type": "code",
   "execution_count": 12,
   "id": "37cd4f22-fa1a-40b6-9ab9-1442efd6b0ba",
   "metadata": {},
   "outputs": [],
   "source": [
    "#贝叶斯尝试\n",
    "from NB import BernoulliNB\n",
    "from sklearn.naive_bayes import GaussianNB\n",
    "from sklearn.naive_bayes import MultinomialNB\n",
    "\n",
    "from sklearn.naive_bayes import ComplementNB\n",
    "from sklearn.model_selection import train_test_split\n",
    "from sklearn.model_selection import cross_val_score"
   ]
  },
  {
   "cell_type": "code",
   "execution_count": 13,
   "id": "c6fbc177-757c-4bf4-9a71-7b401a875e88",
   "metadata": {},
   "outputs": [],
   "source": [
    "X_train,X_test,Y_train,Y_test = train_test_split(data2_x,data1_y,shuffle = True,random_state=60,test_size = 0.3)\n",
    "#X_train,X_test,Y_train,Y_test = train_test_split(X,data_y,shuffle = True,random_state=60,test_size = 0.3)"
   ]
  },
  {
   "cell_type": "code",
   "execution_count": 14,
   "id": "d9ad96ec-465e-48f2-aa88-5ae6dadc4fa7",
   "metadata": {},
   "outputs": [
    {
     "name": "stdout",
     "output_type": "stream",
     "text": [
      "0.6676328502415458\n"
     ]
    }
   ],
   "source": [
    "bnb = BernoulliNB().fit(X_train,Y_train)\n",
    "gnb = GaussianNB().fit(X_train,Y_train) \n",
    "mnb = MultinomialNB().fit(X_train,Y_train)\n",
    "cnb = ComplementNB().fit(X_train,Y_train) \n",
    "acc_score2 = bnb.score(X_test,Y_test)\n",
    "print(acc_score2)"
   ]
  },
  {
   "cell_type": "code",
   "execution_count": 15,
   "id": "987e934a-16c6-4ddc-bb52-14ae1e4a40aa",
   "metadata": {},
   "outputs": [],
   "source": [
    "cv3 = cross_val_score(bnb,data2_x,data1_y,cv=5)\n",
    "cv1 = cross_val_score(gnb,data2_x,data1_y,cv=5)\n",
    "cv2 = cross_val_score(mnb,data2_x,data1_y,cv=5)\n",
    "cv4 = cross_val_score(cnb,data2_x,data1_y,cv=5)\n",
    "#cv1 = cross_val_score(bnb,X,data_y,cv=5)\n"
   ]
  },
  {
   "cell_type": "code",
   "execution_count": 16,
   "id": "37b09769-c14d-41cc-ba20-2b2d6c1fb978",
   "metadata": {},
   "outputs": [
    {
     "name": "stdout",
     "output_type": "stream",
     "text": [
      "[0.59710145 0.6173913  0.63043478 0.50289855 0.61594203]\n",
      "0.5927536231884057\n",
      "0.6078260869565217\n",
      "0.6315942028985507\n",
      "0.6078260869565217\n"
     ]
    }
   ],
   "source": [
    "print(cv1)\n",
    "print(sum(cv1)/5)\n",
    "print(sum(cv2)/5)\n",
    "print(sum(cv3)/5)\n",
    "print(sum(cv4)/5)"
   ]
  },
  {
   "cell_type": "code",
   "execution_count": 17,
   "id": "7e294a7d-8581-495f-891f-98e587bcf61f",
   "metadata": {},
   "outputs": [
    {
     "data": {
      "image/png": "[encoded data removed]",
      "text/plain": [
       "<Figure size 432x288 with 1 Axes>"
      ]
     },
     "metadata": {
      "needs_background": "light"
     },
     "output_type": "display_data"
    }
   ],
   "source": [
    "fig = plt.figure()\n",
    "x = [1,2,3,4,5]\n",
    "yerr = np.linspace(0.05, 0.2, 5)\n",
    "plt.errorbar(x, cv1,  yerr=yerr, uplims=True, lolims=True,\n",
    "             label='Gaussian average:59.27%' )\n",
    "plt.errorbar(x, cv2,  yerr=yerr, uplims=True, lolims=True,\n",
    "             label='Multinomial average:60.78%')\n",
    "plt.errorbar(x, cv3,  yerr=yerr, uplims=True, lolims=True,\n",
    "             label='Bernoulli average:63.15%')\n",
    "plt.errorbar(x, cv4,  yerr=yerr, uplims=True, lolims=True,\n",
    "             label='Complement average:60.78%')\n",
    "plt.grid()\n",
    "plt.xlabel('Cross Validation Time')\n",
    "plt.ylabel('Accuracy')\n",
    "plt.legend(loc='lower left')\n",
    "plt.show()"
   ]
  }
 ],
 "metadata": {
  "kernelspec": {
   "display_name": "PyTorch-1.8",
   "language": "python",
   "name": "pytorch-1.8"
  },
  "language_info": {
   "codemirror_mode": {
    "name": "ipython",
    "version": 3
   },
   "file_extension": ".py",
   "mimetype": "text/x-python",
   "name": "python",
   "nbconvert_exporter": "python",
   "pygments_lexer": "ipython3",
   "version": "3.7.10"
  }
 },
 "nbformat": 4,
 "nbformat_minor": 5
}
