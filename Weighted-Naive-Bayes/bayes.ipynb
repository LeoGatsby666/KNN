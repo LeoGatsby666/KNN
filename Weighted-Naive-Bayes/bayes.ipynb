{
 "cells": [
  {
   "cell_type": "code",
   "execution_count": 3,
   "id": "019f2aba",
   "metadata": {},
   "outputs": [],
   "source": [
    "import numpy as np\n",
    "from sklearn.decomposition import PCA \n",
    "import matplotlib.pyplot as plt\n",
    "from sklearn.naive_bayes import GaussianNB\n",
    "from sklearn.naive_bayes import MultinomialNB\n",
    "from sklearn.naive_bayes import BernoulliNB\n",
    "from sklearn.naive_bayes import ComplementNB\n",
    "import os\n",
    "from sklearn.model_selection import train_test_split\n",
    "from sklearn.model_selection import cross_val_score\n",
    "from sklearn.ensemble import AdaBoostClassifier\n",
    "from sklearn.preprocessing import MinMaxScaler"
   ]
  },
  {
   "cell_type": "code",
   "execution_count": 4,
   "id": "fd8f0453",
   "metadata": {},
   "outputs": [],
   "source": [
    "#缩小图片规格，以减少计算量及因图片错误引起的无关因素规格为113x90\n",
    "def depart(initial_matrix):\n",
    "    kl = initial_matrix[15:]\n",
    "    tk = []\n",
    "    for i in range(113):    \n",
    "        t = kl[i][20:110]\n",
    "        tk.append(t)\n",
    "    return tk\n",
    "#离散处理数据像素，使其可能取值数量为17\n",
    "def lisan(ol):\n",
    "    for i in range(113):\n",
    "        for j in range(90):\n",
    "            ol[i][j] = (ol[i][j]//15)*15+7\n",
    "    return ol\n",
    "def cou_male(a):\n",
    "    '''\n",
    "    统计男性数量\n",
    "    '''\n",
    "    t = 0\n",
    "    for i in a:\n",
    "        if i==1:\n",
    "            t += 1\n",
    "    return t\n",
    "#寻找男性坐标\n",
    "def findex(a):\n",
    "    num = []\n",
    "    for i in range(len(a)):\n",
    "        if a[i] == 1:\n",
    "            num.append(i)\n",
    "    return num\n",
    "#计算权重，注意，此时特征向量已经拉长处理\n",
    "def weigh(data_x,data_y):\n",
    "    kp = findex(data_y)#记录男性坐标\n",
    "    k = [i for i in range(len(data_y))]\n",
    "    #得出女性坐标\n",
    "    for i in kp:\n",
    "        k.remove(i)\n",
    "    al = [0]*len(data_x[0])#建立特征向量的空数组\n",
    "    #循环求解\n",
    "    for n in kp:\n",
    "        for t in k:\n",
    "            for i in range(len(data_x[0])):\n",
    "                #不同则加一\n",
    "                if data_x[n][i].all()!=data_x[t][i].all():\n",
    "                    al[i] += 1\n",
    "    he = sum(al)\n",
    "    tp = []\n",
    "    for i in range(len(al)):\n",
    "        tp.append(al[i]/he)\n",
    "    return tp"
   ]
  },
  {
   "cell_type": "code",
   "execution_count": 5,
   "id": "c7c90a19",
   "metadata": {},
   "outputs": [],
   "source": [
    "# 源数据处理\n",
    "all_file = os.listdir('./face/rawdata')\n",
    "# 读取所有data_x数据,  有问题的数据：第1186个，2412号；第1190个，2416号 ；2021号\n",
    "data_x = np.zeros((len(all_file),128,128))\n",
    "data_y = np.zeros(len(all_file))\n",
    "data1_x = np.zeros((len(all_file),113,90))\n",
    "# 将两个数据标签整理再一起\n",
    "f = open('./face/faceDR','r')\n",
    "r1 = f.readlines()\n",
    "f.close()\n",
    "\n",
    "f = open('./face/faceDS','r')\n",
    "r2 = f.readlines()\n",
    "f.close()\n",
    "for i in r2:\n",
    "    r1.append(i)\n",
    "\n",
    "# 整理出data_x,和data_y\n",
    "all_file = os.listdir('./face/rawdata')\n",
    "for i in range(len(all_file)):\n",
    "    with open('./face/rawdata/'+all_file[i],'rb') as f:\n",
    "        x = np.fromfile(f,dtype=np.ubyte)\n",
    "        t = x.reshape(128,-1)\n",
    "        data_x[i] = t\n",
    "        for j in r1:\n",
    "            if all_file[i] in j:\n",
    "                if 'female' in j:\n",
    "                    data_y[i] = 0\n",
    "                elif 'male' in j:\n",
    "                    data_y[i] = 1\n",
    "                else:\n",
    "                    data_y[i] = None\n",
    "                break\n",
    "\n",
    "                \n",
    "#缩小图片，及离散处理\n",
    "for i in range(len(all_file)):\n",
    "    data1_x[i] = depart(data_x[i])\n",
    "#    data1_x[i] = lisan(data1_x[i])\n",
    "#进一步处理\n",
    "face_data = data1_x.reshape(data1_x.shape[0],-1)#拉长数组\n",
    "face_target = data_y\n",
    "#PCA降维\n",
    "pca = PCA(n_components = 200).fit(face_data)\n",
    "face_data = pca.transform(face_data)\n",
    "\n",
    "\n",
    "X_train,X_test,Y_train,Y_test = train_test_split(face_data,face_target,shuffle = True,random_state=60,test_size = 0.3)"
   ]
  },
  {
   "cell_type": "code",
   "execution_count": 6,
   "id": "cd01d4c0",
   "metadata": {},
   "outputs": [],
   "source": [
    "#归一化\n",
    "mms = MinMaxScaler().fit(X_train)\n",
    "X_train_ = mms.transform(X_train)\n",
    "X_test_=mms.transform(X_test)"
   ]
  },
  {
   "cell_type": "code",
   "execution_count": 7,
   "id": "6259e7ce",
   "metadata": {},
   "outputs": [],
   "source": [
    "#gnb = GaussianNB().fit(X_train,Y_train) \n",
    "#mnb = MultinomialNB().fit(X_train,Y_train)\n",
    "#bnb_ = BernoulliNB(binarize=0.0).fit(X_train_,Y_train) \n",
    "bnb = BernoulliNB().fit(X_train,Y_train) \n",
    "#cnb = ComplementNB().fit(X_train,Y_train) "
   ]
  },
  {
   "cell_type": "code",
   "execution_count": 8,
   "id": "938397eb",
   "metadata": {},
   "outputs": [
    {
     "name": "stdout",
     "output_type": "stream",
     "text": [
      "0.7372384937238494\n"
     ]
    }
   ],
   "source": [
    "#acc_score = gnb.score(X_test,Y_test)#高斯分布\n",
    "#acc_score1 = mnb.score(X_test,Y_test)#多项式朴素贝叶斯分类器MultinomialNB\n",
    "acc_score2 = bnb.score(X_test,Y_test)#伯劳尼朴素贝叶斯分类器BernoulliNB\n",
    "#acc_score21 = bnb_.score(X_test_,Y_test)\n",
    "#acc_score3 = cnb.score(X_test,Y_test)\n",
    "#print(acc_score,acc_score1,acc_score2,acc_score3)\n",
    "print(acc_score2)"
   ]
  },
  {
   "cell_type": "code",
   "execution_count": 7,
   "id": "1c896053",
   "metadata": {},
   "outputs": [
    {
     "data": {
      "text/plain": [
       "array([[274, 191],\n",
       "       [173, 557]], dtype=int64)"
      ]
     },
     "execution_count": 7,
     "metadata": {},
     "output_type": "execute_result"
    }
   ],
   "source": [
    "Y_pred = mnb.predict(X_test)\n",
    "from sklearn.metrics import confusion_matrix as CM\n",
    "CM(Y_test,Y_pred)"
   ]
  },
  {
   "cell_type": "code",
   "execution_count": 9,
   "id": "7202647b",
   "metadata": {},
   "outputs": [
    {
     "name": "stdout",
     "output_type": "stream",
     "text": [
      "0.6685910733088277\n",
      "[0.61104141 0.69636136 0.70012547 0.68090452 0.65452261]\n"
     ]
    }
   ],
   "source": [
    "#cv300 = cross_val_score(bnb,face_data,face_target,cv=5)\n",
    "#cv400 = cross_val_score(bnb,face_data,face_target,cv=5)\n",
    "#cv500 = cross_val_score(bnb,face_data,face_target,cv=5)\n",
    "cv200 = cross_val_score(bnb,face_data,face_target,cv=5)\n",
    "#cv100 = cross_val_score(bnb,face_data,face_target,cv=5)\n",
    "#print(sum(cv300)/5)\n",
    "#print(sum(cv100)/5)\n",
    "print(sum(cv200)/5)\n",
    "#print(sum(cv400)/5)\n",
    "#print(sum(cv500)/5)\n",
    "print(cv200)"
   ]
  },
  {
   "cell_type": "code",
   "execution_count": null,
   "id": "5b1811f3-9259-41dc-865f-1a893529d657",
   "metadata": {},
   "outputs": [],
   "source": [
    "import numpy as np\n",
    "import matplotlib.pyplot as plt\n",
    "#各个模型效果对比图\n",
    "\n",
    "fig = plt.figure()\n",
    "x = [1,2,3,4,5]\n",
    "yerr = np.linspace(0.05, 0.2, 5)\n",
    "plt.errorbar(x, cv100,  yerr=yerr, uplims=True, lolims=True,\n",
    "             label='PCA_n=100,average:65.35%')\n",
    "plt.errorbar(x, cv200,  yerr=yerr, uplims=True, lolims=True,\n",
    "             label='PCA_n=200,average:65.82%')\n",
    "plt.errorbar(x, cv300,  yerr=yerr, uplims=True, lolims=True,\n",
    "             label='PCA_n=300,average:64.67%')\n",
    "plt.errorbar(x, cv400,  yerr=yerr, uplims=True, lolims=True,\n",
    "             label='PCA_n=400,average:63.37%')\n",
    "plt.errorbar(x, cv500,  yerr=yerr, uplims=True, lolims=True,\n",
    "             label='PCA_n=500,average:63.04%')\n",
    "plt.grid()\n",
    "plt.xlabel('Cross Validation Time')\n",
    "plt.ylabel('Accuracy')\n",
    "plt.legend(loc='lower left')\n",
    "plt.show()"
   ]
  },
  {
   "cell_type": "code",
   "execution_count": 10,
   "id": "2ce1a7ce",
   "metadata": {},
   "outputs": [
    {
     "name": "stdout",
     "output_type": "stream",
     "text": [
      "Adaboost-NB AUC： 0.6879201528344357\n"
     ]
    }
   ],
   "source": [
    "clf = AdaBoostClassifier(base_estimator=bnb, n_estimators=150)\n",
    "scores = cross_val_score(clf, face_data,face_target, cv=5)\n",
    "print('Adaboost-NB AUC：',scores.mean())"
   ]
  },
  {
   "cell_type": "code",
   "execution_count": null,
   "id": "36063fc2",
   "metadata": {},
   "outputs": [],
   "source": []
  }
 ],
 "metadata": {
  "kernelspec": {
   "display_name": "PyTorch-1.8",
   "language": "python",
   "name": "pytorch-1.8"
  },
  "language_info": {
   "codemirror_mode": {
    "name": "ipython",
    "version": 3
   },
   "file_extension": ".py",
   "mimetype": "text/x-python",
   "name": "python",
   "nbconvert_exporter": "python",
   "pygments_lexer": "ipython3",
   "version": "3.7.10"
  }
 },
 "nbformat": 4,
 "nbformat_minor": 5
}
