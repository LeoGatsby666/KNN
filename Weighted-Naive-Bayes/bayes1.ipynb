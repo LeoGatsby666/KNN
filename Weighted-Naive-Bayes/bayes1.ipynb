{
 "cells": [
  {
   "cell_type": "code",
   "execution_count": 2,
   "id": "019f2aba",
   "metadata": {
    "scrolled": false
   },
   "outputs": [],
   "source": [
    "import numpy as np\n",
    "from sklearn.decomposition import PCA \n",
    "import matplotlib.pyplot as plt\n",
    "from sklearn.naive_bayes import GaussianNB\n",
    "from sklearn.naive_bayes import MultinomialNB\n",
    "from sklearn.naive_bayes import BernoulliNB\n",
    "from sklearn.naive_bayes import ComplementNB\n",
    "import os\n",
    "from sklearn.model_selection import train_test_split\n",
    "from sklearn.model_selection import cross_val_score\n",
    "from sklearn.ensemble import AdaBoostClassifier\n",
    "from sklearn.preprocessing import MinMaxScaler"
   ]
  },
  {
   "cell_type": "code",
   "execution_count": 2,
   "id": "fd8f0453",
   "metadata": {},
   "outputs": [],
   "source": [
    "def depart(initial_matrix):\n",
    "    kl = initial_matrix[15:]\n",
    "    tk = []\n",
    "    for i in range(113):    \n",
    "        t = kl[i][20:110]\n",
    "        tk.append(t)\n",
    "    return tk"
   ]
  },
  {
   "cell_type": "code",
   "execution_count": 3,
   "id": "c7c90a19",
   "metadata": {},
   "outputs": [],
   "source": [
    "# 源数据处理\n",
    "all_file = os.listdir('./face/rawdata')\n",
    "# 读取所有data_x数据,  有问题的数据：第1186个，2412号；第1190个，2416号 ；2021号\n",
    "data_x = np.zeros((len(all_file),128,128))\n",
    "data_y = np.zeros(len(all_file))\n",
    "data1_x = np.zeros((len(all_file),113,90))\n",
    "# 将两个数据标签整理再一起\n",
    "f = open('./face/faceDR','r')\n",
    "r1 = f.readlines()\n",
    "f.close()\n",
    "\n",
    "f = open('./face/faceDS','r')\n",
    "r2 = f.readlines()\n",
    "f.close()\n",
    "for i in r2:\n",
    "    r1.append(i)\n",
    "\n",
    "# 整理出data_x,和data_y\n",
    "all_file = os.listdir('./face/rawdata')\n",
    "for i in range(len(all_file)):\n",
    "    with open('./face/rawdata/'+all_file[i],'rb') as f:\n",
    "        x = np.fromfile(f,dtype=np.ubyte)\n",
    "        t = x.reshape(128,-1)\n",
    "        data_x[i] = t\n",
    "        for j in r1:\n",
    "            if all_file[i] in j:\n",
    "                if 'female' in j:\n",
    "                    data_y[i] = 0\n",
    "                elif 'male' in j:\n",
    "                    data_y[i] = 1\n",
    "                else:\n",
    "                    data_y[i] = None\n",
    "                break\n",
    "for i in range(len(all_file)):\n",
    "    data1_x[i] = depart(data_x[i])\n",
    "face_data=data1_x.reshape(data1_x.shape[0],-1)#拉长数组\n",
    "face_target = data_y\n",
    "#pca = PCA(n_components = 500).fit(face_data)\n",
    "#face_data = pca.transform(face_data)\n",
    "\n",
    "X_train,X_test,Y_train,Y_test = train_test_split(face_data,face_target,shuffle = True,random_state=60,test_size = 0.3)"
   ]
  },
  {
   "cell_type": "code",
   "execution_count": 18,
   "id": "1cf314a1",
   "metadata": {},
   "outputs": [
    {
     "name": "stdout",
     "output_type": "stream",
     "text": [
      "1.0 1.0 0.0 0.0\n"
     ]
    },
    {
     "data": {
      "image/png": "[encoded data removed]",
      "text/plain": [
       "<Figure size 432x288 with 1 Axes>"
      ]
     },
     "metadata": {
      "needs_background": "light"
     },
     "output_type": "display_data"
    }
   ],
   "source": [
    "ch1 = [abs(x-y) for x,y in zip(face_data[1000],face_data[3000])]\n",
    "ch2 = [abs(x-y) for x,y in zip(face_data[1000],face_data[2000])]\n",
    "ch3 = [abs(x-y) for x,y in zip(face_data[2000],face_data[3000])]\n",
    "ch4 = [abs(x-y) for x,y in zip(face_data[3400],face_data[3000])]\n",
    "#plt.plot(range(20),face_data[1000][40:60],color='blue')\n",
    "#plt.plot(range(20),face_data[2000][40:60],color='black')\n",
    "#plt.plot(range(20),face_data[3000][40:60],color='red')\n",
    "print(face_target[1000],face_target[2000],face_target[3000],face_target[3400])\n",
    "plt.plot(range(100),ch1[0:100],color='blue',label='male-female')\n",
    "plt.plot(range(100),ch2[0:100],color='red',label='male-male')\n",
    "plt.plot(range(100),ch3[0:100],color='black',label='male-female')\n",
    "#plt.plot(range(100),ch4[0:100],color='orange',label='female-female')\n",
    "plt.legend(loc='upper right')\n",
    "plt.ylabel('feature difference')\n",
    "plt.xlabel('feature tab')\n",
    "plt.grid()\n",
    "plt.show()"
   ]
  },
  {
   "cell_type": "code",
   "execution_count": 6,
   "id": "cd01d4c0",
   "metadata": {},
   "outputs": [],
   "source": [
    "#归一化\n",
    "mms = MinMaxScaler().fit(X_train)\n",
    "X_train_ = mms.transform(X_train)\n",
    "X_test_=mms.transform(X_test)"
   ]
  },
  {
   "cell_type": "code",
   "execution_count": 9,
   "id": "6259e7ce",
   "metadata": {},
   "outputs": [],
   "source": [
    "gnb = GaussianNB().fit(X_train,Y_train) \n",
    "mnb = MultinomialNB().fit(X_train,Y_train)\n",
    "bnb = BernoulliNB().fit(X_train,Y_train) \n",
    "cnb = ComplementNB().fit(X_train,Y_train) "
   ]
  },
  {
   "cell_type": "code",
   "execution_count": 8,
   "id": "ac5b3840",
   "metadata": {},
   "outputs": [
    {
     "data": {
      "text/plain": [
       "array([-0.92910564, -0.50237269])"
      ]
     },
     "execution_count": 8,
     "metadata": {},
     "output_type": "execute_result"
    }
   ],
   "source": [
    "\n",
    "mnb.class_log_prior_"
   ]
  },
  {
   "cell_type": "code",
   "execution_count": 10,
   "id": "938397eb",
   "metadata": {},
   "outputs": [
    {
     "name": "stdout",
     "output_type": "stream",
     "text": [
      "0.6311389759665622 0.6426332288401254 0.6541274817136886 0.6384535005224661\n"
     ]
    }
   ],
   "source": [
    "acc_score = gnb.score(X_test,Y_test)#高斯分布\n",
    "acc_score1 = mnb.score(X_test,Y_test)#多项式朴素贝叶斯分类器MultinomialNB\n",
    "acc_score2 = bnb.score(X_test,Y_test)#伯劳尼朴素贝叶斯分类器BernoulliNB\n",
    "acc_score3 = cnb.score(X_test,Y_test)\n",
    "print(acc_score,acc_score1,acc_score2,acc_score3)\n",
    "#print(acc_score2)"
   ]
  },
  {
   "cell_type": "code",
   "execution_count": 7,
   "id": "1c896053",
   "metadata": {},
   "outputs": [
    {
     "data": {
      "text/plain": [
       "array([[274, 191],\n",
       "       [173, 557]], dtype=int64)"
      ]
     },
     "execution_count": 7,
     "metadata": {},
     "output_type": "execute_result"
    }
   ],
   "source": [
    "Y_pred = mnb.predict(X_test)\n",
    "from sklearn.metrics import confusion_matrix as CM\n",
    "CM(Y_test,Y_pred)"
   ]
  },
  {
   "cell_type": "code",
   "execution_count": 11,
   "id": "7202647b",
   "metadata": {},
   "outputs": [
    {
     "name": "stdout",
     "output_type": "stream",
     "text": [
      "[0.5846395  0.60188088 0.55102041 0.68759812 0.65306122]\n",
      "[0.55172414 0.62695925 0.55572998 0.74411303 0.69701727]\n",
      "[0.61442006 0.62068966 0.54631083 0.75981162 0.66562009]\n",
      "[0.55172414 0.62695925 0.55572998 0.74254317 0.68916797]\n"
     ]
    }
   ],
   "source": [
    "cv1 = cross_val_score(gnb,face_data,face_target,cv=5)\n",
    "cv2 = cross_val_score(mnb,face_data,face_target,cv=5)\n",
    "cv3 = cross_val_score(bnb,face_data,face_target,cv=5)\n",
    "cv4 = cross_val_score(cnb,face_data,face_target,cv=5)\n",
    "print(cv1)\n",
    "print(cv2)\n",
    "print(cv3)\n",
    "print(cv4)"
   ]
  },
  {
   "cell_type": "code",
   "execution_count": 18,
   "id": "8e9b3737",
   "metadata": {},
   "outputs": [
    {
     "data": {
      "image/png": "[encoded data removed]",
      "text/plain": [
       "<Figure size 432x288 with 1 Axes>"
      ]
     },
     "metadata": {
      "needs_background": "light"
     },
     "output_type": "display_data"
    }
   ],
   "source": [
    "import numpy as np\n",
    "import matplotlib.pyplot as plt\n",
    "#各个模型效果对比图\n",
    "\n",
    "fig = plt.figure()\n",
    "x = [1,2,3,4,5]\n",
    "yerr = np.linspace(0.05, 0.2, 5)\n",
    "plt.errorbar(x, cv1,  yerr=yerr, uplims=True, lolims=True,\n",
    "             label='Gaussian')\n",
    "plt.errorbar(x, cv2,  yerr=yerr, uplims=True, lolims=True,\n",
    "             label='Multinomial')\n",
    "plt.errorbar(x, cv3,  yerr=yerr, uplims=True, lolims=True,\n",
    "             label='Bernoulli')\n",
    "plt.errorbar(x, cv4,  yerr=yerr, uplims=True, lolims=True,\n",
    "             label='Complememnt')\n",
    "plt.grid()\n",
    "plt.xlabel('Cross Validation Time')\n",
    "plt.ylabel('Accuracy')\n",
    "plt.legend(loc='upper left')\n",
    "plt.show()"
   ]
  },
  {
   "cell_type": "code",
   "execution_count": 13,
   "id": "2ce1a7ce",
   "metadata": {},
   "outputs": [
    {
     "name": "stdout",
     "output_type": "stream",
     "text": [
      "Adaboost-NB AUC： 0.5332381493173186\n"
     ]
    }
   ],
   "source": [
    "clf = AdaBoostClassifier(base_estimator=bnb, n_estimators=8)\n",
    "scores = cross_val_score(clf, face_data,face_target, cv=5, scoring='roc_auc')\n",
    "print('Adaboost-NB AUC：',scores.mean())"
   ]
  },
  {
   "cell_type": "code",
   "execution_count": 17,
   "id": "36063fc2",
   "metadata": {},
   "outputs": [
    {
     "data": {
      "image/png": "[encoded data removed]",
      "text/plain": [
       "<Figure size 432x288 with 1 Axes>"
      ]
     },
     "metadata": {
      "needs_background": "light"
     },
     "output_type": "display_data"
    }
   ],
   "source": [
    "plt.imshow(data1_x[3115],cmap=plt.cm.gray)\n",
    "\n",
    "plt.show()"
   ]
  },
  {
   "cell_type": "code",
   "execution_count": 3,
   "id": "7787c4df",
   "metadata": {},
   "outputs": [
    {
     "name": "stdout",
     "output_type": "stream",
     "text": [
      "Help on function cross_val_score in module sklearn.model_selection._validation:\n",
      "\n",
      "cross_val_score(estimator, X, y=None, *, groups=None, scoring=None, cv=None, n_jobs=None, verbose=0, fit_params=None, pre_dispatch='2*n_jobs', error_score=nan)\n",
      "    Evaluate a score by cross-validation\n",
      "    \n",
      "    Read more in the :ref:`User Guide <cross_validation>`.\n",
      "    \n",
      "    Parameters\n",
      "    ----------\n",
      "    estimator : estimator object implementing 'fit'\n",
      "        The object to use to fit the data.\n",
      "    \n",
      "    X : array-like of shape (n_samples, n_features)\n",
      "        The data to fit. Can be for example a list, or an array.\n",
      "    \n",
      "    y : array-like of shape (n_samples,) or (n_samples, n_outputs),             default=None\n",
      "        The target variable to try to predict in the case of\n",
      "        supervised learning.\n",
      "    \n",
      "    groups : array-like of shape (n_samples,), default=None\n",
      "        Group labels for the samples used while splitting the dataset into\n",
      "        train/test set. Only used in conjunction with a \"Group\" :term:`cv`\n",
      "        instance (e.g., :class:`GroupKFold`).\n",
      "    \n",
      "    scoring : str or callable, default=None\n",
      "        A str (see model evaluation documentation) or\n",
      "        a scorer callable object / function with signature\n",
      "        ``scorer(estimator, X, y)`` which should return only\n",
      "        a single value.\n",
      "    \n",
      "        Similar to :func:`cross_validate`\n",
      "        but only a single metric is permitted.\n",
      "    \n",
      "        If None, the estimator's default scorer (if available) is used.\n",
      "    \n",
      "    cv : int, cross-validation generator or an iterable, default=None\n",
      "        Determines the cross-validation splitting strategy.\n",
      "        Possible inputs for cv are:\n",
      "    \n",
      "        - None, to use the default 5-fold cross validation,\n",
      "        - int, to specify the number of folds in a `(Stratified)KFold`,\n",
      "        - :term:`CV splitter`,\n",
      "        - An iterable yielding (train, test) splits as arrays of indices.\n",
      "    \n",
      "        For int/None inputs, if the estimator is a classifier and ``y`` is\n",
      "        either binary or multiclass, :class:`StratifiedKFold` is used. In all\n",
      "        other cases, :class:`KFold` is used. These splitters are instantiated\n",
      "        with `shuffle=False` so the splits will be the same across calls.\n",
      "    \n",
      "        Refer :ref:`User Guide <cross_validation>` for the various\n",
      "        cross-validation strategies that can be used here.\n",
      "    \n",
      "        .. versionchanged:: 0.22\n",
      "            ``cv`` default value if None changed from 3-fold to 5-fold.\n",
      "    \n",
      "    n_jobs : int, default=None\n",
      "        Number of jobs to run in parallel. Training the estimator and computing\n",
      "        the score are parallelized over the cross-validation splits.\n",
      "        ``None`` means 1 unless in a :obj:`joblib.parallel_backend` context.\n",
      "        ``-1`` means using all processors. See :term:`Glossary <n_jobs>`\n",
      "        for more details.\n",
      "    \n",
      "    verbose : int, default=0\n",
      "        The verbosity level.\n",
      "    \n",
      "    fit_params : dict, default=None\n",
      "        Parameters to pass to the fit method of the estimator.\n",
      "    \n",
      "    pre_dispatch : int or str, default='2*n_jobs'\n",
      "        Controls the number of jobs that get dispatched during parallel\n",
      "        execution. Reducing this number can be useful to avoid an\n",
      "        explosion of memory consumption when more jobs get dispatched\n",
      "        than CPUs can process. This parameter can be:\n",
      "    \n",
      "            - None, in which case all the jobs are immediately\n",
      "              created and spawned. Use this for lightweight and\n",
      "              fast-running jobs, to avoid delays due to on-demand\n",
      "              spawning of the jobs\n",
      "    \n",
      "            - An int, giving the exact number of total jobs that are\n",
      "              spawned\n",
      "    \n",
      "            - A str, giving an expression as a function of n_jobs,\n",
      "              as in '2*n_jobs'\n",
      "    \n",
      "    error_score : 'raise' or numeric, default=np.nan\n",
      "        Value to assign to the score if an error occurs in estimator fitting.\n",
      "        If set to 'raise', the error is raised.\n",
      "        If a numeric value is given, FitFailedWarning is raised.\n",
      "    \n",
      "        .. versionadded:: 0.20\n",
      "    \n",
      "    Returns\n",
      "    -------\n",
      "    scores : ndarray of float of shape=(len(list(cv)),)\n",
      "        Array of scores of the estimator for each run of the cross validation.\n",
      "    \n",
      "    Examples\n",
      "    --------\n",
      "    >>> from sklearn import datasets, linear_model\n",
      "    >>> from sklearn.model_selection import cross_val_score\n",
      "    >>> diabetes = datasets.load_diabetes()\n",
      "    >>> X = diabetes.data[:150]\n",
      "    >>> y = diabetes.target[:150]\n",
      "    >>> lasso = linear_model.Lasso()\n",
      "    >>> print(cross_val_score(lasso, X, y, cv=3))\n",
      "    [0.33150734 0.08022311 0.03531764]\n",
      "    \n",
      "    See Also\n",
      "    ---------\n",
      "    cross_validate : To run cross-validation on multiple metrics and also to\n",
      "        return train scores, fit times and score times.\n",
      "    \n",
      "    cross_val_predict : Get predictions from each split of cross-validation for\n",
      "        diagnostic purposes.\n",
      "    \n",
      "    sklearn.metrics.make_scorer : Make a scorer from a performance metric or\n",
      "        loss function.\n",
      "\n"
     ]
    }
   ],
   "source": [
    "help(cross_val_score)"
   ]
  },
  {
   "cell_type": "code",
   "execution_count": 7,
   "id": "b70406a6",
   "metadata": {},
   "outputs": [
    {
     "data": {
      "image/png": "[encoded data removed]",
      "text/plain": [
       "<Figure size 432x288 with 1 Axes>"
      ]
     },
     "metadata": {
      "needs_background": "light"
     },
     "output_type": "display_data"
    }
   ],
   "source": [
    "import numpy as np\n",
    "import matplotlib.pyplot as plt\n",
    "#各个模型效果对比图\n",
    "\n",
    "fig = plt.figure()\n",
    "x = [50,100,150,200]\n",
    "yerr = np.linspace(0.05, 0.2, 4)\n",
    "cv1 = [0.743345,0.743544,0.743550,0.743560]\n",
    "cv2 = [0.69068,0.69194,0.69194,0.69195]\n",
    "#plt.errorbar(x, cv1,  yerr=yerr, uplims=True, lolims=True,\n",
    "#             label='AUC_ROC')\n",
    "plt.errorbar(x, cv2,  yerr=yerr, uplims=True, lolims=True,\n",
    "             label='Accuracy')\n",
    "\n",
    "plt.grid()\n",
    "plt.xlabel('n_estimators')\n",
    "plt.ylabel('Percentage')\n",
    "plt.legend(loc='upper left')\n",
    "plt.show()"
   ]
  },
  {
   "cell_type": "code",
   "execution_count": 9,
   "id": "8f193ca0",
   "metadata": {},
   "outputs": [
    {
     "name": "stdout",
     "output_type": "stream",
     "text": [
      "[[1, 2, 3], [4, 5, 6]]\n"
     ]
    }
   ],
   "source": [
    "k = [[1,2,3],[4,5,6],[7,8,9]]\n",
    "t = k[:1]+k[1:2]\n",
    "print(t)"
   ]
  },
  {
   "cell_type": "code",
   "execution_count": null,
   "id": "e7d695cf",
   "metadata": {},
   "outputs": [],
   "source": []
  }
 ],
 "metadata": {
  "kernelspec": {
   "display_name": "Python 3 (ipykernel)",
   "language": "python",
   "name": "python3"
  },
  "language_info": {
   "codemirror_mode": {
    "name": "ipython",
    "version": 3
   },
   "file_extension": ".py",
   "mimetype": "text/x-python",
   "name": "python",
   "nbconvert_exporter": "python",
   "pygments_lexer": "ipython3",
   "version": "3.9.7"
  }
 },
 "nbformat": 4,
 "nbformat_minor": 5
}
